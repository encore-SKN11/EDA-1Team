{
 "cells": [
  {
   "cell_type": "markdown",
   "metadata": {},
   "source": [
    "# 프로젝트 진행 공간\n",
    "- 데이터에 대한 전처리 과정을 포함해 주세요.\n",
    "- 독립 변수 간의 여러 유의미한 관계를 시각화 해주세요.\n",
    "- EDA를 통해 얻어진 인사이트를 작성해주세요."
   ]
  },
  {
   "cell_type": "code",
   "execution_count": 16,
   "metadata": {},
   "outputs": [],
   "source": [
    "import numpy as np\n",
    "import pandas as pd\n",
    "import matplotlib.pyplot as plt\n",
    "import seaborn as sns\n",
    "import matplotlib.font_manager as fm\n",
    "import matplotlib\n",
    "\n",
    "\n",
    "\n",
    "font_path = 'C:\\\\Windows\\\\Fonts\\\\gulim.ttc'\n",
    "font = fm.FontProperties(fname=font_path).get_name()\n",
    "matplotlib.rc('font',family=font)"
   ]
  },
  {
   "cell_type": "markdown",
   "metadata": {},
   "source": [
    "## EDA 구간"
   ]
  },
  {
   "cell_type": "markdown",
   "metadata": {},
   "source": [
    "1. 데이터 로드\n",
    "    - 다양한 소스에서 데이터를 로드한다. (파일, 데이터베이스, API 등에서 데이터를 불러온다.)\n",
    "    - 데이터가 로드된 후에는 구조를 확인하기 위해 첫 몇 줄의 데이터를 출력해 본다."
   ]
  },
  {
   "cell_type": "code",
   "execution_count": 17,
   "metadata": {},
   "outputs": [],
   "source": [
    "import pandas as pd\n",
    "import glob\n",
    "\n",
    "# 연도별 CSV 파일 불러오기 \n",
    "file_paths = glob.glob(\"data/*.csv\")\n",
    "\n",
    "# csv 파일 합치기\n",
    "df_list = [pd.read_csv(file) for file in file_paths]\n",
    "df = pd.concat(df_list, ignore_index=True)\n",
    "\n",
    "# csv 파일 저장\n",
    "df.to_csv(\"all.csv\", index=False, encoding=\"utf-8\")\n",
    "\n",
    "\n"
   ]
  },
  {
   "cell_type": "markdown",
   "metadata": {},
   "source": [
    "2. 데이터 구조 및 기초 통계 확인\n",
    "    - 데이터의 구조를 파악하기 위해 컬럼 정보와 데이터 타입을 확인한다.\n",
    "    - 데이터의 기본 통계 정보를 출력하여 각 변수의 분포와 특성을 살펴본다.\n",
    "    - df.head(), df.info(), df.describe() 등의 함수를 사용한다."
   ]
  },
  {
   "cell_type": "code",
   "execution_count": 18,
   "metadata": {},
   "outputs": [
    {
     "name": "stdout",
     "output_type": "stream",
     "text": [
      "<class 'pandas.core.frame.DataFrame'>\n",
      "RangeIndex: 458 entries, 0 to 457\n",
      "Data columns (total 23 columns):\n",
      " #   Column  Non-Null Count  Dtype  \n",
      "---  ------  --------------  -----  \n",
      " 0   이름      458 non-null    object \n",
      " 1   연도      458 non-null    int64  \n",
      " 2   WAR     458 non-null    float64\n",
      " 3   득점      458 non-null    int64  \n",
      " 4   안타      458 non-null    int64  \n",
      " 5   2루타     458 non-null    int64  \n",
      " 6   3루타     458 non-null    int64  \n",
      " 7   홈런      458 non-null    int64  \n",
      " 8   타점      458 non-null    int64  \n",
      " 9   도루      406 non-null    float64\n",
      " 10  볼넷      458 non-null    int64  \n",
      " 11  사구      458 non-null    int64  \n",
      " 12  고의사구    458 non-null    int64  \n",
      " 13  삼진      458 non-null    int64  \n",
      " 14  병살      458 non-null    int64  \n",
      " 15  희생타     458 non-null    int64  \n",
      " 16  희생플라이   458 non-null    int64  \n",
      " 17  타율      458 non-null    float64\n",
      " 18  출루      458 non-null    float64\n",
      " 19  장타      458 non-null    float64\n",
      " 20  OPS     458 non-null    float64\n",
      " 21  wRC+    458 non-null    float64\n",
      " 22  수상여부    458 non-null    int64  \n",
      "dtypes: float64(7), int64(15), object(1)\n",
      "memory usage: 82.4+ KB\n",
      "None\n",
      "                연도         WAR          득점          안타         2루타  \\\n",
      "count   458.000000  458.000000  458.000000  458.000000  458.000000   \n",
      "mean   2012.469432    3.204607   74.615721  136.303493   23.548035   \n",
      "std       7.265528    1.693926   17.496131   24.684478    7.646947   \n",
      "min    2000.000000   -0.660000   36.000000   71.000000    5.000000   \n",
      "25%    2006.000000    2.022500   61.000000  117.250000   18.000000   \n",
      "50%    2013.000000    3.030000   73.000000  133.500000   23.000000   \n",
      "75%    2019.000000    4.207500   88.000000  154.000000   29.000000   \n",
      "max    2024.000000    9.040000  118.000000  202.000000   49.000000   \n",
      "\n",
      "              3루타          홈런          타점          도루          볼넷  ...  \\\n",
      "count  458.000000  458.000000  458.000000  406.000000  458.000000  ...   \n",
      "mean     2.705240   13.148472   65.995633   15.492611   51.733624  ...   \n",
      "std      2.420376    9.893072   25.073197   13.280030   16.397383  ...   \n",
      "min      0.000000    0.000000   13.000000    0.000000   13.000000  ...   \n",
      "25%      1.000000    5.000000   47.000000    6.000000   41.000000  ...   \n",
      "50%      2.000000   12.000000   64.000000   11.000000   50.000000  ...   \n",
      "75%      4.000000   20.000000   83.000000   22.000000   62.000000  ...   \n",
      "max     12.000000   53.000000  144.000000   66.000000  127.000000  ...   \n",
      "\n",
      "               삼진          병살         희생타       희생플라이          타율          출루  \\\n",
      "count  458.000000  458.000000  458.000000  458.000000  458.000000  458.000000   \n",
      "mean    76.530568    8.692140    4.462882    4.240175    0.297544    0.373699   \n",
      "std     25.108869    4.012451    5.212732    2.498832    0.028318    0.031660   \n",
      "min     29.000000    1.000000    0.000000    0.000000    0.203000    0.279000   \n",
      "25%     58.000000    6.000000    0.000000    2.000000    0.279000    0.353000   \n",
      "50%     73.000000    8.000000    2.000000    4.000000    0.295000    0.372000   \n",
      "75%     90.000000   11.000000    7.000000    6.000000    0.317000    0.394000   \n",
      "max    156.000000   23.000000   28.000000   13.000000    0.376000    0.503000   \n",
      "\n",
      "               장타         OPS        wRC+        수상여부  \n",
      "count  458.000000  458.000000  458.000000  458.000000  \n",
      "mean     0.446148    0.819847  121.154367    0.163755  \n",
      "std      0.078459    0.100332   25.546772    0.370458  \n",
      "min      0.273000    0.593000   63.100000    0.000000  \n",
      "25%      0.385000    0.748000  103.325000    0.000000  \n",
      "50%      0.444000    0.813500  121.200000    0.000000  \n",
      "75%      0.495000    0.881500  137.600000    0.000000  \n",
      "max      0.720000    1.198000  207.300000    1.000000  \n",
      "\n",
      "[8 rows x 22 columns]\n"
     ]
    }
   ],
   "source": [
    "print(df.info())\n",
    "print(df.describe())"
   ]
  },
  {
   "cell_type": "markdown",
   "metadata": {},
   "source": [
    "3. 결측치 및 이상치 탐색\n",
    "    - 결측치(NaN) 값이 존재하는지 확인하고, 이를 처리하는 방법을 결정한다.\n",
    "    - 데이터에 존재하는 이상치(Outlier)를 탐지하고, 이를 어떻게 처리할지 결정한다.\n",
    "    - df.isnull().sum(), df.boxplot() 등의 함수를 활용한다."
   ]
  },
  {
   "cell_type": "code",
   "execution_count": null,
   "metadata": {},
   "outputs": [
    {
     "name": "stdout",
     "output_type": "stream",
     "text": [
      "이름        0\n",
      "연도        0\n",
      "WAR       0\n",
      "득점        0\n",
      "안타        0\n",
      "2루타       0\n",
      "3루타       0\n",
      "홈런        0\n",
      "타점        0\n",
      "도루       16\n",
      "볼넷        0\n",
      "사구        0\n",
      "고의사구      0\n",
      "삼진        0\n",
      "병살        0\n",
      "희생타       0\n",
      "희생플라이     0\n",
      "타율        0\n",
      "출루        0\n",
      "장타        0\n",
      "OPS       0\n",
      "wRC+      0\n",
      "수상여부      0\n",
      "dtype: int64\n"
     ]
    },
    {
     "ename": "KeyError",
     "evalue": "0",
     "output_type": "error",
     "traceback": [
      "\u001b[1;31m---------------------------------------------------------------------------\u001b[0m",
      "\u001b[1;31mKeyError\u001b[0m                                  Traceback (most recent call last)",
      "File \u001b[1;32mc:\\Users\\Playdata\\anaconda3\\envs\\pystudy_env\\Lib\\site-packages\\pandas\\core\\indexes\\base.py:3805\u001b[0m, in \u001b[0;36mIndex.get_loc\u001b[1;34m(self, key)\u001b[0m\n\u001b[0;32m   3804\u001b[0m \u001b[38;5;28;01mtry\u001b[39;00m:\n\u001b[1;32m-> 3805\u001b[0m     \u001b[38;5;28;01mreturn\u001b[39;00m \u001b[38;5;28;43mself\u001b[39;49m\u001b[38;5;241;43m.\u001b[39;49m\u001b[43m_engine\u001b[49m\u001b[38;5;241;43m.\u001b[39;49m\u001b[43mget_loc\u001b[49m\u001b[43m(\u001b[49m\u001b[43mcasted_key\u001b[49m\u001b[43m)\u001b[49m\n\u001b[0;32m   3806\u001b[0m \u001b[38;5;28;01mexcept\u001b[39;00m \u001b[38;5;167;01mKeyError\u001b[39;00m \u001b[38;5;28;01mas\u001b[39;00m err:\n",
      "File \u001b[1;32mindex.pyx:167\u001b[0m, in \u001b[0;36mpandas._libs.index.IndexEngine.get_loc\u001b[1;34m()\u001b[0m\n",
      "File \u001b[1;32mindex.pyx:196\u001b[0m, in \u001b[0;36mpandas._libs.index.IndexEngine.get_loc\u001b[1;34m()\u001b[0m\n",
      "File \u001b[1;32mpandas\\\\_libs\\\\hashtable_class_helper.pxi:7081\u001b[0m, in \u001b[0;36mpandas._libs.hashtable.PyObjectHashTable.get_item\u001b[1;34m()\u001b[0m\n",
      "File \u001b[1;32mpandas\\\\_libs\\\\hashtable_class_helper.pxi:7089\u001b[0m, in \u001b[0;36mpandas._libs.hashtable.PyObjectHashTable.get_item\u001b[1;34m()\u001b[0m\n",
      "\u001b[1;31mKeyError\u001b[0m: 0",
      "\nThe above exception was the direct cause of the following exception:\n",
      "\u001b[1;31mKeyError\u001b[0m                                  Traceback (most recent call last)",
      "Cell \u001b[1;32mIn[28], line 8\u001b[0m\n\u001b[0;32m      5\u001b[0m selected_features \u001b[38;5;241m=\u001b[39m [\u001b[38;5;124m'\u001b[39m\u001b[38;5;124mWAR\u001b[39m\u001b[38;5;124m'\u001b[39m, \u001b[38;5;124m'\u001b[39m\u001b[38;5;124m타율\u001b[39m\u001b[38;5;124m'\u001b[39m, \u001b[38;5;124m'\u001b[39m\u001b[38;5;124m홈런\u001b[39m\u001b[38;5;124m'\u001b[39m, \u001b[38;5;124m'\u001b[39m\u001b[38;5;124m장타\u001b[39m\u001b[38;5;124m'\u001b[39m, \u001b[38;5;124m'\u001b[39m\u001b[38;5;124mOPS\u001b[39m\u001b[38;5;124m'\u001b[39m, \u001b[38;5;124m'\u001b[39m\u001b[38;5;124mwRC+\u001b[39m\u001b[38;5;124m'\u001b[39m, \u001b[38;5;124m'\u001b[39m\u001b[38;5;124m안타\u001b[39m\u001b[38;5;124m'\u001b[39m, \u001b[38;5;124m'\u001b[39m\u001b[38;5;124m출루\u001b[39m\u001b[38;5;124m'\u001b[39m]\n\u001b[0;32m      7\u001b[0m \u001b[38;5;28;01mfor\u001b[39;00m i, feature \u001b[38;5;129;01min\u001b[39;00m \u001b[38;5;28menumerate\u001b[39m(selected_features):\n\u001b[1;32m----> 8\u001b[0m     sns\u001b[38;5;241m.\u001b[39mboxplot(x\u001b[38;5;241m=\u001b[39m\u001b[38;5;124m'\u001b[39m\u001b[38;5;124m수상여부\u001b[39m\u001b[38;5;124m'\u001b[39m, y\u001b[38;5;241m=\u001b[39mfeature, data\u001b[38;5;241m=\u001b[39mdf, ax\u001b[38;5;241m=\u001b[39m\u001b[43mdf\u001b[49m\u001b[43m[\u001b[49m\u001b[43mi\u001b[49m\u001b[43m]\u001b[49m)\n\u001b[0;32m     13\u001b[0m plt\u001b[38;5;241m.\u001b[39mshow()\n\u001b[0;32m     14\u001b[0m \u001b[38;5;66;03m# WAR, 타율, 홈런, 장타율, OPS, wRC+, 안타, 출루루\u001b[39;00m\n",
      "File \u001b[1;32mc:\\Users\\Playdata\\anaconda3\\envs\\pystudy_env\\Lib\\site-packages\\pandas\\core\\frame.py:4102\u001b[0m, in \u001b[0;36mDataFrame.__getitem__\u001b[1;34m(self, key)\u001b[0m\n\u001b[0;32m   4100\u001b[0m \u001b[38;5;28;01mif\u001b[39;00m \u001b[38;5;28mself\u001b[39m\u001b[38;5;241m.\u001b[39mcolumns\u001b[38;5;241m.\u001b[39mnlevels \u001b[38;5;241m>\u001b[39m \u001b[38;5;241m1\u001b[39m:\n\u001b[0;32m   4101\u001b[0m     \u001b[38;5;28;01mreturn\u001b[39;00m \u001b[38;5;28mself\u001b[39m\u001b[38;5;241m.\u001b[39m_getitem_multilevel(key)\n\u001b[1;32m-> 4102\u001b[0m indexer \u001b[38;5;241m=\u001b[39m \u001b[38;5;28;43mself\u001b[39;49m\u001b[38;5;241;43m.\u001b[39;49m\u001b[43mcolumns\u001b[49m\u001b[38;5;241;43m.\u001b[39;49m\u001b[43mget_loc\u001b[49m\u001b[43m(\u001b[49m\u001b[43mkey\u001b[49m\u001b[43m)\u001b[49m\n\u001b[0;32m   4103\u001b[0m \u001b[38;5;28;01mif\u001b[39;00m is_integer(indexer):\n\u001b[0;32m   4104\u001b[0m     indexer \u001b[38;5;241m=\u001b[39m [indexer]\n",
      "File \u001b[1;32mc:\\Users\\Playdata\\anaconda3\\envs\\pystudy_env\\Lib\\site-packages\\pandas\\core\\indexes\\base.py:3812\u001b[0m, in \u001b[0;36mIndex.get_loc\u001b[1;34m(self, key)\u001b[0m\n\u001b[0;32m   3807\u001b[0m     \u001b[38;5;28;01mif\u001b[39;00m \u001b[38;5;28misinstance\u001b[39m(casted_key, \u001b[38;5;28mslice\u001b[39m) \u001b[38;5;129;01mor\u001b[39;00m (\n\u001b[0;32m   3808\u001b[0m         \u001b[38;5;28misinstance\u001b[39m(casted_key, abc\u001b[38;5;241m.\u001b[39mIterable)\n\u001b[0;32m   3809\u001b[0m         \u001b[38;5;129;01mand\u001b[39;00m \u001b[38;5;28many\u001b[39m(\u001b[38;5;28misinstance\u001b[39m(x, \u001b[38;5;28mslice\u001b[39m) \u001b[38;5;28;01mfor\u001b[39;00m x \u001b[38;5;129;01min\u001b[39;00m casted_key)\n\u001b[0;32m   3810\u001b[0m     ):\n\u001b[0;32m   3811\u001b[0m         \u001b[38;5;28;01mraise\u001b[39;00m InvalidIndexError(key)\n\u001b[1;32m-> 3812\u001b[0m     \u001b[38;5;28;01mraise\u001b[39;00m \u001b[38;5;167;01mKeyError\u001b[39;00m(key) \u001b[38;5;28;01mfrom\u001b[39;00m\u001b[38;5;250m \u001b[39m\u001b[38;5;21;01merr\u001b[39;00m\n\u001b[0;32m   3813\u001b[0m \u001b[38;5;28;01mexcept\u001b[39;00m \u001b[38;5;167;01mTypeError\u001b[39;00m:\n\u001b[0;32m   3814\u001b[0m     \u001b[38;5;66;03m# If we have a listlike key, _check_indexing_error will raise\u001b[39;00m\n\u001b[0;32m   3815\u001b[0m     \u001b[38;5;66;03m#  InvalidIndexError. Otherwise we fall through and re-raise\u001b[39;00m\n\u001b[0;32m   3816\u001b[0m     \u001b[38;5;66;03m#  the TypeError.\u001b[39;00m\n\u001b[0;32m   3817\u001b[0m     \u001b[38;5;28mself\u001b[39m\u001b[38;5;241m.\u001b[39m_check_indexing_error(key)\n",
      "\u001b[1;31mKeyError\u001b[0m: 0"
     ]
    },
    {
     "data": {
      "image/png": "[encoded data removed]",
      "text/plain": [
       "<Figure size 1000x600 with 8 Axes>"
      ]
     },
     "metadata": {},
     "output_type": "display_data"
    }
   ],
   "source": [
    "print(df.isnull().sum())\n",
    "\n",
    "fig, ax = plt.subplots(nrows=2,ncols=4,figsize=(10,6))\n",
    "\n",
    "selected_features = ['WAR', '타율', '홈런', '장타', 'OPS', 'wRC+', '안타', '출루']\n",
    "\n",
    "# 그래프 생성\n",
    "fig, axes = plt.subplots(nrows=2, ncols=4, figsize=(16, 8))\n",
    "axes = axes.flatten()\n",
    "\n",
    "for i, feature in enumerate(selected_features):\n",
    "    sns.boxplot(x='수상여부', y=feature, data=df, ax=axes[i])\n",
    "    axes[i].set_title(f'{feature} vs 수상여부')\n",
    "\n",
    "\n",
    "plt.show()\n",
    "# WAR, 타율, 홈런, 장타율, OPS, wRC+, 안타, 출루루"
   ]
  },
  {
   "cell_type": "markdown",
   "metadata": {},
   "source": [
    "4. 데이터 시각화를 통한 탐색\n",
    "    - 데이터를 시각화하여 변수 간의 관계, 분포 등을 파악한다.\n",
    "    - 히스토그램, 박스플롯, 상관관계 행렬 등 다양한 그래프를 통해 데이터의 특성을 시각적으로 확인한다.\n",
    "    - sns.countplot(), sns.heatmap() 등의 함수를 사용한다."
   ]
  },
  {
   "cell_type": "code",
   "execution_count": null,
   "metadata": {},
   "outputs": [],
   "source": []
  },
  {
   "cell_type": "markdown",
   "metadata": {},
   "source": [
    "5. 데이터 정제 및 전처리\n",
    "    - 필요 없는 변수나 중복 데이터를 제거한다.\n",
    "    - 범주형 데이터를 처리하거나, 스케일링 및 정규화를 통해 모델에 적합한 형태로 데이터를 변환한다. \n",
    "    - df.drop(), df.fillna(), pd.get_dummies() 등의 함수를 활용한다."
   ]
  },
  {
   "cell_type": "code",
   "execution_count": 20,
   "metadata": {},
   "outputs": [
    {
     "name": "stdout",
     "output_type": "stream",
     "text": [
      "<class 'pandas.core.frame.DataFrame'>\n",
      "Index: 132 entries, 0 to 456\n",
      "Data columns (total 23 columns):\n",
      " #   Column  Non-Null Count  Dtype  \n",
      "---  ------  --------------  -----  \n",
      " 0   이름      132 non-null    object \n",
      " 1   연도      132 non-null    int64  \n",
      " 2   WAR     132 non-null    float64\n",
      " 3   득점      132 non-null    int64  \n",
      " 4   안타      132 non-null    int64  \n",
      " 5   2루타     132 non-null    int64  \n",
      " 6   3루타     132 non-null    int64  \n",
      " 7   홈런      132 non-null    int64  \n",
      " 8   타점      132 non-null    int64  \n",
      " 9   도루      116 non-null    float64\n",
      " 10  볼넷      132 non-null    int64  \n",
      " 11  사구      132 non-null    int64  \n",
      " 12  고의사구    132 non-null    int64  \n",
      " 13  삼진      132 non-null    int64  \n",
      " 14  병살      132 non-null    int64  \n",
      " 15  희생타     132 non-null    int64  \n",
      " 16  희생플라이   132 non-null    int64  \n",
      " 17  타율      132 non-null    float64\n",
      " 18  출루      132 non-null    float64\n",
      " 19  장타      132 non-null    float64\n",
      " 20  OPS     132 non-null    float64\n",
      " 21  wRC+    132 non-null    float64\n",
      " 22  수상여부    132 non-null    int64  \n",
      "dtypes: float64(7), int64(15), object(1)\n",
      "memory usage: 24.8+ KB\n",
      "None\n",
      "                연도         WAR          득점          안타         2루타  \\\n",
      "count   132.000000  132.000000  132.000000  132.000000  132.000000   \n",
      "mean   2011.348485    2.868333   73.856061  131.515152   23.416667   \n",
      "std       8.134354    1.547603   17.776875   24.263655    7.468040   \n",
      "min    2000.000000   -0.120000   40.000000   71.000000   10.000000   \n",
      "25%    2003.750000    1.847500   58.750000  113.750000   18.000000   \n",
      "50%    2012.500000    2.770000   72.000000  128.000000   23.000000   \n",
      "75%    2018.000000    3.872500   88.000000  152.250000   29.000000   \n",
      "max    2024.000000    7.880000  118.000000  202.000000   47.000000   \n",
      "\n",
      "              3루타          홈런          타점          도루          볼넷  ...  \\\n",
      "count  132.000000  132.000000  132.000000  116.000000  132.000000  ...   \n",
      "mean     2.931818   13.727273   64.704545   16.974138   49.204545  ...   \n",
      "std      2.380561   10.564300   25.831733   12.941649   16.745850  ...   \n",
      "min      0.000000    0.000000   19.000000    0.000000   17.000000  ...   \n",
      "25%      1.000000    5.000000   45.750000    7.000000   36.750000  ...   \n",
      "50%      2.000000   12.000000   63.500000   13.500000   48.000000  ...   \n",
      "75%      4.000000   21.000000   81.500000   24.000000   60.000000  ...   \n",
      "max     10.000000   43.000000  124.000000   60.000000  127.000000  ...   \n",
      "\n",
      "               삼진          병살         희생타       희생플라이          타율          출루  \\\n",
      "count  132.000000  132.000000  132.000000  132.000000  132.000000  132.000000   \n",
      "mean    84.030303    8.295455    4.386364    4.007576    0.290538    0.365932   \n",
      "std     25.246250    3.887224    5.141728    2.419691    0.026558    0.030332   \n",
      "min     34.000000    1.000000    0.000000    0.000000    0.203000    0.279000   \n",
      "25%     67.000000    5.750000    0.000000    2.000000    0.276000    0.349000   \n",
      "50%     82.000000    8.000000    3.000000    4.000000    0.289000    0.366000   \n",
      "75%    101.000000   10.250000    7.000000    5.000000    0.310000    0.383000   \n",
      "max    149.000000   21.000000   23.000000   12.000000    0.357000    0.503000   \n",
      "\n",
      "               장타         OPS        wRC+        수상여부  \n",
      "count  132.000000  132.000000  132.000000  132.000000  \n",
      "mean     0.445152    0.811083  116.313636    0.106061  \n",
      "std      0.080202    0.099012   25.125817    0.309088  \n",
      "min      0.296000    0.614000   65.400000    0.000000  \n",
      "25%      0.374000    0.733000   99.050000    0.000000  \n",
      "50%      0.445500    0.814500  116.750000    0.000000  \n",
      "75%      0.494250    0.865500  131.150000    0.000000  \n",
      "max      0.695000    1.198000  203.000000    1.000000  \n",
      "\n",
      "[8 rows x 22 columns]\n",
      "132\n"
     ]
    }
   ],
   "source": [
    "# 선수명 기준으로 중복 제거 (첫 번째 등장한 데이터 유지)\n",
    "df = df.drop_duplicates(subset=['이름'], keep='first')\n",
    "print(df.info())\n",
    "print(df.describe())  \n",
    "print(df['이름'].nunique())  # 중복을 제외한 고유한 값 개수\n",
    "\n"
   ]
  },
  {
   "cell_type": "markdown",
   "metadata": {},
   "source": [
    "6. 데이터 변환 및 피처 엔지니어링\n",
    "    - 새로운 피처를 생성하거나 기존 피처를 변환하여 분석에 적합한 형태로 데이터를 조정한다.\n",
    "    - 로그 변환, 다항식 피처 추가 등 다양한 기법을 통해 데이터를 변환할 수 있다.\n",
    "    - np.log(), PolynomialFeatures() 등의 함수를 활용한다."
   ]
  },
  {
   "cell_type": "code",
   "execution_count": null,
   "metadata": {},
   "outputs": [],
   "source": []
  },
  {
   "cell_type": "markdown",
   "metadata": {},
   "source": [
    "7. 데이터 분할\n",
    "    - 학습용과 테스트용 데이터로 분할한다.\n",
    "    - 이 과정은 모델을 평가하고 성능을 검증하는 데 중요한 단계이다.\n",
    "    - train_test_split() 함수를 사용한다."
   ]
  },
  {
   "cell_type": "code",
   "execution_count": null,
   "metadata": {},
   "outputs": [],
   "source": []
  },
  {
   "cell_type": "markdown",
   "metadata": {},
   "source": [
    "## 학습 구간(knn)"
   ]
  },
  {
   "cell_type": "code",
   "execution_count": null,
   "metadata": {},
   "outputs": [],
   "source": []
  }
 ],
 "metadata": {
  "kernelspec": {
   "display_name": "pystudy_env",
   "language": "python",
   "name": "python3"
  },
  "language_info": {
   "codemirror_mode": {
    "name": "ipython",
    "version": 3
   },
   "file_extension": ".py",
   "mimetype": "text/x-python",
   "name": "python",
   "nbconvert_exporter": "python",
   "pygments_lexer": "ipython3",
   "version": "3.12.9"
  }
 },
 "nbformat": 4,
 "nbformat_minor": 2
}
