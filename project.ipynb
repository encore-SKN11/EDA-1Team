{
 "cells": [
  {
   "cell_type": "markdown",
   "metadata": {},
   "source": [
    "# 프로젝트 진행 공간\n",
    "- 데이터에 대한 전처리 과정을 포함해 주세요.\n",
    "- 독립 변수 간의 여러 유의미한 관계를 시각화 해주세요.\n",
    "- EDA를 통해 얻어진 인사이트를 작성해주세요."
   ]
  },
  {
   "cell_type": "code",
   "execution_count": 2,
   "metadata": {},
   "outputs": [],
   "source": [
    "import numpy as np\n",
    "import pandas as pd\n",
    "import matplotlib.pyplot as plt\n",
    "import seaborn as sns"
   ]
  },
  {
   "cell_type": "markdown",
   "metadata": {},
   "source": [
    "## EDA 구간"
   ]
  },
  {
   "cell_type": "markdown",
   "metadata": {},
   "source": [
    "1. 데이터 로드\n",
    "    - 다양한 소스에서 데이터를 로드한다. (파일, 데이터베이스, API 등에서 데이터를 불러온다.)\n",
    "    - 데이터가 로드된 후에는 구조를 확인하기 위해 첫 몇 줄의 데이터를 출력해 본다."
   ]
  },
  {
   "cell_type": "code",
   "execution_count": null,
   "metadata": {},
   "outputs": [],
   "source": [
    "import pandas as pd\n",
    "import glob\n",
    "\n",
    "# 연도별 CSV 파일 불러오기 \n",
    "file_paths = glob.glob(\"data/*.csv\")\n",
    "\n",
    "# csv 파일 합치기\n",
    "df_list = [pd.read_csv(file) for file in file_paths]\n",
    "df = pd.concat(df_list, ignore_index=True)\n",
    "\n",
    "# csv 파일 저장\n",
    "df.to_csv(\"all.csv\", index=False, encoding=\"utf-8\")\n",
    "\n",
    "\n"
   ]
  },
  {
   "cell_type": "markdown",
   "metadata": {},
   "source": [
    "2. 데이터 구조 및 기초 통계 확인\n",
    "    - 데이터의 구조를 파악하기 위해 컬럼 정보와 데이터 타입을 확인한다.\n",
    "    - 데이터의 기본 통계 정보를 출력하여 각 변수의 분포와 특성을 살펴본다.\n",
    "    - df.head(), df.info(), df.describe() 등의 함수를 사용한다."
   ]
  },
  {
   "cell_type": "code",
   "execution_count": null,
   "metadata": {},
   "outputs": [],
   "source": [
    "print(df.info())\n",
    "print(df.describe())"
   ]
  },
  {
   "cell_type": "markdown",
   "metadata": {},
   "source": [
    "3. 결측치 및 이상치 탐색\n",
    "    - 결측치(NaN) 값이 존재하는지 확인하고, 이를 처리하는 방법을 결정한다.\n",
    "    - 데이터에 존재하는 이상치(Outlier)를 탐지하고, 이를 어떻게 처리할지 결정한다.\n",
    "    - df.isnull().sum(), df.boxplot() 등의 함수를 활용한다."
   ]
  },
  {
   "cell_type": "code",
   "execution_count": null,
   "metadata": {},
   "outputs": [],
   "source": []
  },
  {
   "cell_type": "markdown",
   "metadata": {},
   "source": [
    "4. 데이터 시각화를 통한 탐색\n",
    "    - 데이터를 시각화하여 변수 간의 관계, 분포 등을 파악한다.\n",
    "    - 히스토그램, 박스플롯, 상관관계 행렬 등 다양한 그래프를 통해 데이터의 특성을 시각적으로 확인한다.\n",
    "    - sns.countplot(), sns.heatmap() 등의 함수를 사용한다."
   ]
  },
  {
   "cell_type": "code",
   "execution_count": null,
   "metadata": {},
   "outputs": [],
   "source": []
  },
  {
   "cell_type": "markdown",
   "metadata": {},
   "source": [
    "5. 데이터 정제 및 전처리\n",
    "    - 필요 없는 변수나 중복 데이터를 제거한다.\n",
    "    - 범주형 데이터를 처리하거나, 스케일링 및 정규화를 통해 모델에 적합한 형태로 데이터를 변환한다. \n",
    "    - df.drop(), df.fillna(), pd.get_dummies() 등의 함수를 활용한다."
   ]
  },
  {
   "cell_type": "code",
   "execution_count": null,
   "metadata": {},
   "outputs": [],
   "source": [
    "# 선수명 기준으로 중복 제거 (첫 번째 등장한 데이터 유지)\n",
    "df = df.drop_duplicates(subset=['이름'], keep='first')\n",
    "print(df.info())\n",
    "print(df.describe())  \n",
    "print(df['이름'].nunique())  # 중복을 제외한 고유한 값 개수\n",
    "\n"
   ]
  },
  {
   "cell_type": "markdown",
   "metadata": {},
   "source": [
    "6. 데이터 변환 및 피처 엔지니어링\n",
    "    - 새로운 피처를 생성하거나 기존 피처를 변환하여 분석에 적합한 형태로 데이터를 조정한다.\n",
    "    - 로그 변환, 다항식 피처 추가 등 다양한 기법을 통해 데이터를 변환할 수 있다.\n",
    "    - np.log(), PolynomialFeatures() 등의 함수를 활용한다."
   ]
  },
  {
   "cell_type": "code",
   "execution_count": null,
   "metadata": {},
   "outputs": [],
   "source": []
  },
  {
   "cell_type": "markdown",
   "metadata": {},
   "source": [
    "7. 데이터 분할\n",
    "    - 학습용과 테스트용 데이터로 분할한다.\n",
    "    - 이 과정은 모델을 평가하고 성능을 검증하는 데 중요한 단계이다.\n",
    "    - train_test_split() 함수를 사용한다."
   ]
  },
  {
   "cell_type": "code",
   "execution_count": null,
   "metadata": {},
   "outputs": [],
   "source": []
  },
  {
   "cell_type": "markdown",
   "metadata": {},
   "source": [
    "## 학습 구간(knn)"
   ]
  },
  {
   "cell_type": "code",
   "execution_count": null,
   "metadata": {},
   "outputs": [],
   "source": []
  }
 ],
 "metadata": {
  "kernelspec": {
   "display_name": "pystudy_env",
   "language": "python",
   "name": "python3"
  },
  "language_info": {
   "codemirror_mode": {
    "name": "ipython",
    "version": 3
   },
   "file_extension": ".py",
   "mimetype": "text/x-python",
   "name": "python",
   "nbconvert_exporter": "python",
   "pygments_lexer": "ipython3",
   "version": "3.12.9"
  }
 },
 "nbformat": 4,
 "nbformat_minor": 2
}
